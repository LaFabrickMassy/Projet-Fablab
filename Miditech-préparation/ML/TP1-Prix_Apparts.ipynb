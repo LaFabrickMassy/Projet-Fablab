{
  "nbformat": 4,
  "nbformat_minor": 0,
  "metadata": {
    "colab": {
      "provenance": []
    },
    "kernelspec": {
      "name": "python3",
      "display_name": "Python 3"
    },
    "language_info": {
      "name": "python"
    }
  },
  "cells": [
    {
      "cell_type": "code",
      "execution_count": 1,
      "metadata": {
        "id": "lPlWp53htK93"
      },
      "outputs": [],
      "source": [
        "# @title Load modules and initialize\n",
        "import csv"
      ]
    },
    {
      "cell_type": "code",
      "source": [
        "# @title Load dataset\n",
        "\n",
        "# load dataset from github\n",
        "!wget \"https://raw.githubusercontent.com/LaFabrickMassy/Projet-Fablab/main/Miditech/ML/Prix apparts.csv\" -O \"Prix apparts.csv\"\n",
        "!ls\n",
        "\n",
        "dataset = []\n",
        "\n",
        "# convert dataset to a lost of dict\n",
        "with open(\"Prix apparts.csv\") as fd:\n",
        "  reader = csv.reader(fd, delimiter = \";\")\n",
        "\n",
        "  # 1st line is title of fields\n",
        "  line_index = 0\n",
        "  for l in reader:\n",
        "    if line_index == 0:\n",
        "      titles = l\n",
        "    else:\n",
        "      data = {}\n",
        "      for i, x in enumerate(l):\n",
        "        data[titles[i]] = l[i]\n",
        "    dataset.append(data)\n",
        "    line_index += 1\n",
        "\n",
        "# print dataset\n",
        "print(dataset)"
      ],
      "metadata": {
        "colab": {
          "base_uri": "https://localhost:8080/"
        },
        "id": "Y2uitKrytvUw",
        "outputId": "32fda37f-f37a-4f75-8814-c314d1cb9706"
      },
      "execution_count": 18,
      "outputs": [
        {
          "output_type": "stream",
          "name": "stdout",
          "text": [
            "--2024-07-06 20:49:29--  https://raw.githubusercontent.com/LaFabrickMassy/Projet-Fablab/main/Miditech/ML/Prix%20apparts.csv\n",
            "Resolving raw.githubusercontent.com (raw.githubusercontent.com)... 185.199.108.133, 185.199.109.133, 185.199.110.133, ...\n",
            "Connecting to raw.githubusercontent.com (raw.githubusercontent.com)|185.199.108.133|:443... connected.\n",
            "HTTP request sent, awaiting response... 200 OK\n",
            "Length: 2100 (2.1K) [text/plain]\n",
            "Saving to: ‘Prix apparts.csv’\n",
            "\n",
            "\rPrix apparts.csv      0%[                    ]       0  --.-KB/s               \rPrix apparts.csv    100%[===================>]   2.05K  --.-KB/s    in 0s      \n",
            "\n",
            "2024-07-06 20:49:29 (28.4 MB/s) - ‘Prix apparts.csv’ saved [2100/2100]\n",
            "\n",
            "'Prix apparts.csv'  'Prix apparts.csv.1'  'Prix apparts.csv.2'\t sample_data\n",
            "[{'Prix': '365', 'Surface': '80', 'Etage': '1', 'Parking': '1', 'Balcon': '1', 'Pièces': '4'}, {'Prix': '191', 'Surface': '31', 'Etage': '4', 'Parking': '1', 'Balcon': '0', 'Pièces': '1'}, {'Prix': '170', 'Surface': '35', 'Etage': '2', 'Parking': '0', 'Balcon': '1', 'Pièces': '1'}, {'Prix': '199', 'Surface': '32', 'Etage': '1', 'Parking': '1', 'Balcon': '0', 'Pièces': '1'}, {'Prix': '210', 'Surface': '32', 'Etage': '1', 'Parking': '1', 'Balcon': '0', 'Pièces': '1'}, {'Prix': '112', 'Surface': '22', 'Etage': '1', 'Parking': '0', 'Balcon': '0', 'Pièces': '1'}, {'Prix': '140', 'Surface': '17', 'Etage': '1', 'Parking': '0', 'Balcon': '0', 'Pièces': '1'}, {'Prix': '205', 'Surface': '34', 'Etage': '3', 'Parking': '1', 'Balcon': '0', 'Pièces': '1'}, {'Prix': '180', 'Surface': '32', 'Etage': '3', 'Parking': '1', 'Balcon': '0', 'Pièces': '1'}, {'Prix': '198', 'Surface': '32', 'Etage': '1', 'Parking': '0', 'Balcon': '0', 'Pièces': '1'}, {'Prix': '190', 'Surface': '30', 'Etage': '1', 'Parking': '1', 'Balcon': '0', 'Pièces': '1'}, {'Prix': '155', 'Surface': '25', 'Etage': '1', 'Parking': '1', 'Balcon': '1', 'Pièces': '1'}, {'Prix': '193', 'Surface': '25', 'Etage': '1', 'Parking': '1', 'Balcon': '1', 'Pièces': '1'}, {'Prix': '180', 'Surface': '25', 'Etage': '2', 'Parking': '1', 'Balcon': '0', 'Pièces': '1'}, {'Prix': '195', 'Surface': '25', 'Etage': '2', 'Parking': '0', 'Balcon': '1', 'Pièces': '1'}, {'Prix': '188', 'Surface': '26', 'Etage': '1', 'Parking': '0', 'Balcon': '1', 'Pièces': '1'}, {'Prix': '185', 'Surface': '25', 'Etage': '2', 'Parking': '1', 'Balcon': '1', 'Pièces': '1'}, {'Prix': '252', 'Surface': '50', 'Etage': '1', 'Parking': '1', 'Balcon': '1', 'Pièces': '2'}, {'Prix': '285', 'Surface': '40', 'Etage': '4', 'Parking': '1', 'Balcon': '1', 'Pièces': '2'}, {'Prix': '206', 'Surface': '60', 'Etage': '0', 'Parking': '1', 'Balcon': '1', 'Pièces': '2'}, {'Prix': '293', 'Surface': '40', 'Etage': '5', 'Parking': '1', 'Balcon': '1', 'Pièces': '2'}, {'Prix': '255', 'Surface': '59', 'Etage': '3', 'Parking': '1', 'Balcon': '1', 'Pièces': '2'}, {'Prix': '267', 'Surface': '43', 'Etage': '4', 'Parking': '1', 'Balcon': '1', 'Pièces': '2'}, {'Prix': '276', 'Surface': '40', 'Etage': '1', 'Parking': '1', 'Balcon': '1', 'Pièces': '2'}, {'Prix': '285', 'Surface': '42', 'Etage': '4', 'Parking': '1', 'Balcon': '1', 'Pièces': '2'}, {'Prix': '242', 'Surface': '39', 'Etage': '2', 'Parking': '1', 'Balcon': '0', 'Pièces': '2'}, {'Prix': '294', 'Surface': '50', 'Etage': '7', 'Parking': '1', 'Balcon': '0', 'Pièces': '2'}, {'Prix': '217', 'Surface': '42', 'Etage': '4', 'Parking': '1', 'Balcon': '1', 'Pièces': '2'}, {'Prix': '219', 'Surface': '42', 'Etage': '3', 'Parking': '1', 'Balcon': '1', 'Pièces': '2'}, {'Prix': '260', 'Surface': '43', 'Etage': '2', 'Parking': '1', 'Balcon': '1', 'Pièces': '2'}, {'Prix': '207', 'Surface': '50', 'Etage': '2', 'Parking': '1', 'Balcon': '1', 'Pièces': '2'}, {'Prix': '227', 'Surface': '39', 'Etage': '6', 'Parking': '1', 'Balcon': '1', 'Pièces': '2'}, {'Prix': '249', 'Surface': '45', 'Etage': '2', 'Parking': '0', 'Balcon': '0', 'Pièces': '2'}, {'Prix': '340', 'Surface': '52', 'Etage': '0', 'Parking': '1', 'Balcon': '1', 'Pièces': '2'}, {'Prix': '343', 'Surface': '47', 'Etage': '2', 'Parking': '1', 'Balcon': '1', 'Pièces': '2'}, {'Prix': '279', 'Surface': '51', 'Etage': '3', 'Parking': '0', 'Balcon': '1', 'Pièces': '2'}, {'Prix': '276', 'Surface': '40', 'Etage': '1', 'Parking': '1', 'Balcon': '1', 'Pièces': '2'}, {'Prix': '288', 'Surface': '40', 'Etage': '4', 'Parking': '1', 'Balcon': '1', 'Pièces': '2'}, {'Prix': '295', 'Surface': '40', 'Etage': '5', 'Parking': '1', 'Balcon': '1', 'Pièces': '2'}, {'Prix': '276', 'Surface': '40', 'Etage': '0', 'Parking': '1', 'Balcon': '1', 'Pièces': '2'}, {'Prix': '266', 'Surface': '40', 'Etage': '1', 'Parking': '0', 'Balcon': '1', 'Pièces': '2'}, {'Prix': '277', 'Surface': '40', 'Etage': '0', 'Parking': '0', 'Balcon': '1', 'Pièces': '2'}, {'Prix': '267', 'Surface': '40', 'Etage': '0', 'Parking': '1', 'Balcon': '1', 'Pièces': '2'}, {'Prix': '266', 'Surface': '45', 'Etage': '0', 'Parking': '1', 'Balcon': '1', 'Pièces': '2'}, {'Prix': '276', 'Surface': '40', 'Etage': '1', 'Parking': '1', 'Balcon': '1', 'Pièces': '2'}, {'Prix': '276', 'Surface': '40', 'Etage': '1', 'Parking': '1', 'Balcon': '1', 'Pièces': '2'}, {'Prix': '265', 'Surface': '39', 'Etage': '0', 'Parking': '1', 'Balcon': '1', 'Pièces': '2'}, {'Prix': '265', 'Surface': '40', 'Etage': '1', 'Parking': '1', 'Balcon': '1', 'Pièces': '2'}, {'Prix': '206', 'Surface': '49', 'Etage': '0', 'Parking': '1', 'Balcon': '0', 'Pièces': '2'}, {'Prix': '249', 'Surface': '59', 'Etage': '3', 'Parking': '1', 'Balcon': '1', 'Pièces': '2'}, {'Prix': '265', 'Surface': '46', 'Etage': '0', 'Parking': '1', 'Balcon': '1', 'Pièces': '2'}, {'Prix': '295', 'Surface': '73', 'Etage': '0', 'Parking': '0', 'Balcon': '0', 'Pièces': '3'}, {'Prix': '297', 'Surface': '66', 'Etage': '5', 'Parking': '1', 'Balcon': '1', 'Pièces': '3'}, {'Prix': '305', 'Surface': '73', 'Etage': '3', 'Parking': '1', 'Balcon': '0', 'Pièces': '3'}, {'Prix': '429', 'Surface': '68', 'Etage': '4', 'Parking': '1', 'Balcon': '1', 'Pièces': '3'}, {'Prix': '278', 'Surface': '72', 'Etage': '5', 'Parking': '0', 'Balcon': '0', 'Pièces': '3'}, {'Prix': '273', 'Surface': '57', 'Etage': '5', 'Parking': '1', 'Balcon': '1', 'Pièces': '3'}, {'Prix': '289', 'Surface': '73', 'Etage': '2', 'Parking': '1', 'Balcon': '1', 'Pièces': '3'}, {'Prix': '336', 'Surface': '63', 'Etage': '4', 'Parking': '2', 'Balcon': '1', 'Pièces': '3'}, {'Prix': '360', 'Surface': '55', 'Etage': '2', 'Parking': '1', 'Balcon': '1', 'Pièces': '3'}, {'Prix': '294', 'Surface': '74', 'Etage': '3', 'Parking': '1', 'Balcon': '1', 'Pièces': '3'}, {'Prix': '283', 'Surface': '73', 'Etage': '4', 'Parking': '1', 'Balcon': '1', 'Pièces': '3'}, {'Prix': '270', 'Surface': '63', 'Etage': '3', 'Parking': '1', 'Balcon': '1', 'Pièces': '3'}, {'Prix': '278', 'Surface': '72', 'Etage': '7', 'Parking': '0', 'Balcon': '1', 'Pièces': '3'}, {'Prix': '239', 'Surface': '66', 'Etage': '1', 'Parking': '0', 'Balcon': '1', 'Pièces': '3'}, {'Prix': '257', 'Surface': '62', 'Etage': '2', 'Parking': '0', 'Balcon': '1', 'Pièces': '3'}, {'Prix': '305', 'Surface': '63', 'Etage': '4', 'Parking': '0', 'Balcon': '1', 'Pièces': '3'}, {'Prix': '310', 'Surface': '73', 'Etage': '4', 'Parking': '1', 'Balcon': '1', 'Pièces': '3'}, {'Prix': '278', 'Surface': '63', 'Etage': '4', 'Parking': '0', 'Balcon': '1', 'Pièces': '3'}, {'Prix': '279', 'Surface': '64', 'Etage': '0', 'Parking': '1', 'Balcon': '1', 'Pièces': '3'}, {'Prix': '314', 'Surface': '74', 'Etage': '5', 'Parking': '1', 'Balcon': '0', 'Pièces': '3'}, {'Prix': '273', 'Surface': '74', 'Etage': '3', 'Parking': '1', 'Balcon': '1', 'Pièces': '3'}, {'Prix': '323', 'Surface': '71', 'Etage': '2', 'Parking': '1', 'Balcon': '1', 'Pièces': '3'}, {'Prix': '252', 'Surface': '63', 'Etage': '1', 'Parking': '0', 'Balcon': '1', 'Pièces': '3'}, {'Prix': '399', 'Surface': '68', 'Etage': '4', 'Parking': '1', 'Balcon': '1', 'Pièces': '3'}, {'Prix': '294', 'Surface': '72', 'Etage': '8', 'Parking': '1', 'Balcon': '1', 'Pièces': '3'}, {'Prix': '305', 'Surface': '72', 'Etage': '2', 'Parking': '1', 'Balcon': '1', 'Pièces': '3'}, {'Prix': '279', 'Surface': '72', 'Etage': '4', 'Parking': '1', 'Balcon': '1', 'Pièces': '3'}, {'Prix': '283', 'Surface': '69', 'Etage': '3', 'Parking': '1', 'Balcon': '1', 'Pièces': '3'}, {'Prix': '299', 'Surface': '64', 'Etage': '5', 'Parking': '1', 'Balcon': '1', 'Pièces': '3'}, {'Prix': '339', 'Surface': '55', 'Etage': '0', 'Parking': '1', 'Balcon': '1', 'Pièces': '3'}, {'Prix': '216', 'Surface': '52', 'Etage': '1', 'Parking': '0', 'Balcon': '0', 'Pièces': '3'}, {'Prix': '289', 'Surface': '73', 'Etage': '7', 'Parking': '1', 'Balcon': '0', 'Pièces': '3'}, {'Prix': '249', 'Surface': '62', 'Etage': '4', 'Parking': '0', 'Balcon': '1', 'Pièces': '3'}, {'Prix': '270', 'Surface': '63', 'Etage': '3', 'Parking': '0', 'Balcon': '0', 'Pièces': '3'}, {'Prix': '410', 'Surface': '63', 'Etage': '5', 'Parking': '1', 'Balcon': '1', 'Pièces': '3'}, {'Prix': '330', 'Surface': '63', 'Etage': '5', 'Parking': '2', 'Balcon': '1', 'Pièces': '3'}, {'Prix': '332', 'Surface': '71', 'Etage': '2', 'Parking': '1', 'Balcon': '1', 'Pièces': '3'}, {'Prix': '360', 'Surface': '55', 'Etage': '2', 'Parking': '1', 'Balcon': '1', 'Pièces': '3'}, {'Prix': '289', 'Surface': '63', 'Etage': '1', 'Parking': '0', 'Balcon': '1', 'Pièces': '3'}, {'Prix': '336', 'Surface': '63', 'Etage': '4', 'Parking': '1', 'Balcon': '1', 'Pièces': '3'}, {'Prix': '294', 'Surface': '64', 'Etage': '2', 'Parking': '0', 'Balcon': '1', 'Pièces': '3'}, {'Prix': '289', 'Surface': '73', 'Etage': '8', 'Parking': '1', 'Balcon': '1', 'Pièces': '3'}, {'Prix': '330', 'Surface': '72', 'Etage': '8', 'Parking': '1', 'Balcon': '1', 'Pièces': '3'}, {'Prix': '360', 'Surface': '55', 'Etage': '2', 'Parking': '1', 'Balcon': '1', 'Pièces': '3'}, {'Prix': '275', 'Surface': '60', 'Etage': '0', 'Parking': '0', 'Balcon': '1', 'Pièces': '3'}, {'Prix': '269', 'Surface': '42', 'Etage': '4', 'Parking': '0', 'Balcon': '1', 'Pièces': '3'}, {'Prix': '226', 'Surface': '63', 'Etage': '3', 'Parking': '0', 'Balcon': '1', 'Pièces': '3'}, {'Prix': '314', 'Surface': '73', 'Etage': '5', 'Parking': '1', 'Balcon': '0', 'Pièces': '3'}, {'Prix': '242', 'Surface': '59', 'Etage': '0', 'Parking': '1', 'Balcon': '1', 'Pièces': '3'}, {'Prix': '257', 'Surface': '63', 'Etage': '2', 'Parking': '1', 'Balcon': '1', 'Pièces': '3'}, {'Prix': '240', 'Surface': '59', 'Etage': '0', 'Parking': '0', 'Balcon': '1', 'Pièces': '3'}, {'Prix': '460', 'Surface': '78', 'Etage': '1', 'Parking': '0', 'Balcon': '1', 'Pièces': '4'}, {'Prix': '379', 'Surface': '88', 'Etage': '6', 'Parking': '1', 'Balcon': '0', 'Pièces': '4'}, {'Prix': '315', 'Surface': '79', 'Etage': '6', 'Parking': '1', 'Balcon': '1', 'Pièces': '4'}, {'Prix': '332', 'Surface': '79', 'Etage': '1', 'Parking': '0', 'Balcon': '1', 'Pièces': '4'}, {'Prix': '481', 'Surface': '77', 'Etage': '4', 'Parking': '1', 'Balcon': '1', 'Pièces': '4'}, {'Prix': '496', 'Surface': '82', 'Etage': '2', 'Parking': '2', 'Balcon': '1', 'Pièces': '4'}, {'Prix': '487', 'Surface': '80', 'Etage': '0', 'Parking': '1', 'Balcon': '1', 'Pièces': '4'}, {'Prix': '249', 'Surface': '74', 'Etage': '0', 'Parking': '0', 'Balcon': '1', 'Pièces': '4'}, {'Prix': '329', 'Surface': '88', 'Etage': '6', 'Parking': '1', 'Balcon': '0', 'Pièces': '4'}, {'Prix': '335', 'Surface': '79', 'Etage': '10', 'Parking': '1', 'Balcon': '0', 'Pièces': '4'}, {'Prix': '308', 'Surface': '80', 'Etage': '2', 'Parking': '0', 'Balcon': '1', 'Pièces': '4'}, {'Prix': '331', 'Surface': '80', 'Etage': '0', 'Parking': '0', 'Balcon': '1', 'Pièces': '4'}, {'Prix': '279', 'Surface': '75', 'Etage': '1', 'Parking': '0', 'Balcon': '0', 'Pièces': '4'}, {'Prix': '260', 'Surface': '78', 'Etage': '3', 'Parking': '0', 'Balcon': '1', 'Pièces': '4'}, {'Prix': '310', 'Surface': '78', 'Etage': '4', 'Parking': '1', 'Balcon': '0', 'Pièces': '4'}, {'Prix': '310', 'Surface': '77', 'Etage': '4', 'Parking': '1', 'Balcon': '1', 'Pièces': '4'}, {'Prix': '379', 'Surface': '88', 'Etage': '6', 'Parking': '1', 'Balcon': '0', 'Pièces': '4'}, {'Prix': '285', 'Surface': '79', 'Etage': '4', 'Parking': '0', 'Balcon': '1', 'Pièces': '4'}, {'Prix': '399', 'Surface': '74', 'Etage': '7', 'Parking': '2', 'Balcon': '1', 'Pièces': '4'}, {'Prix': '324', 'Surface': '77', 'Etage': '11', 'Parking': '1', 'Balcon': '1', 'Pièces': '4'}, {'Prix': '589', 'Surface': '96', 'Etage': '1', 'Parking': '1', 'Balcon': '1', 'Pièces': '4'}, {'Prix': '350', 'Surface': '88', 'Etage': '5', 'Parking': '1', 'Balcon': '1', 'Pièces': '4'}, {'Prix': '315', 'Surface': '79', 'Etage': '2', 'Parking': '0', 'Balcon': '1', 'Pièces': '4'}, {'Prix': '475', 'Surface': '77', 'Etage': '1', 'Parking': '1', 'Balcon': '1', 'Pièces': '4'}, {'Prix': '330', 'Surface': '79', 'Etage': '3', 'Parking': '0', 'Balcon': '1', 'Pièces': '4'}, {'Prix': '335', 'Surface': '79', 'Etage': '10', 'Parking': '1', 'Balcon': '1', 'Pièces': '4'}, {'Prix': '315', 'Surface': '79', 'Etage': '2', 'Parking': '1', 'Balcon': '1', 'Pièces': '4'}, {'Prix': '342', 'Surface': '88', 'Etage': '1', 'Parking': '1', 'Balcon': '1', 'Pièces': '4'}, {'Prix': '315', 'Surface': '80', 'Etage': '4', 'Parking': '1', 'Balcon': '1', 'Pièces': '4'}, {'Prix': '297', 'Surface': '79', 'Etage': '4', 'Parking': '0', 'Balcon': '1', 'Pièces': '4'}, {'Prix': '440', 'Surface': '88', 'Etage': '4', 'Parking': '1', 'Balcon': '0', 'Pièces': '4'}, {'Prix': '369', 'Surface': '80', 'Etage': '3', 'Parking': '0', 'Balcon': '1', 'Pièces': '4'}, {'Prix': '442', 'Surface': '91', 'Etage': '0', 'Parking': '1', 'Balcon': '1', 'Pièces': '4'}, {'Prix': '344', 'Surface': '80', 'Etage': '4', 'Parking': '1', 'Balcon': '1', 'Pièces': '4'}, {'Prix': '320', 'Surface': '80', 'Etage': '0', 'Parking': '0', 'Balcon': '1', 'Pièces': '4'}, {'Prix': '365', 'Surface': '80', 'Etage': '1', 'Parking': '1', 'Balcon': '1', 'Pièces': '4'}]\n"
          ]
        }
      ]
    }
  ]
}